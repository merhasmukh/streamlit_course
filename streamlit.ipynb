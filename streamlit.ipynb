{
 "cells": [
  {
   "attachments": {},
   "cell_type": "markdown",
   "metadata": {},
   "source": [
    "### Streamlit Inroduction"
   ]
  },
  {
   "attachments": {},
   "cell_type": "markdown",
   "metadata": {},
   "source": [
    "# check python "
   ]
  },
  {
   "cell_type": "code",
   "execution_count": 1,
   "metadata": {},
   "outputs": [
    {
     "name": "stdout",
     "output_type": "stream",
     "text": [
      "Python 3.10.6\n"
     ]
    }
   ],
   "source": [
    "!python3 -V"
   ]
  },
  {
   "attachments": {},
   "cell_type": "markdown",
   "metadata": {},
   "source": [
    "### create python virtual environment On Linux"
   ]
  },
  {
   "cell_type": "code",
   "execution_count": 2,
   "metadata": {},
   "outputs": [],
   "source": [
    "!python3 -m venv venv"
   ]
  },
  {
   "attachments": {},
   "cell_type": "markdown",
   "metadata": {},
   "source": [
    "### Activate python virtual enviroment"
   ]
  },
  {
   "cell_type": "code",
   "execution_count": 3,
   "metadata": {},
   "outputs": [],
   "source": [
    "!source venv/bin/activate"
   ]
  },
  {
   "attachments": {},
   "cell_type": "markdown",
   "metadata": {},
   "source": [
    "### Streamlit Installation"
   ]
  },
  {
   "cell_type": "code",
   "execution_count": 4,
   "metadata": {},
   "outputs": [
    {
     "name": "stdout",
     "output_type": "stream",
     "text": [
      "Defaulting to user installation because normal site-packages is not writeable\n",
      "Requirement already satisfied: streamlit in /home/tech/.local/lib/python3.10/site-packages (1.18.1)\n",
      "Requirement already satisfied: pydeck>=0.1.dev5 in /home/tech/.local/lib/python3.10/site-packages (from streamlit) (0.8.0)\n",
      "Requirement already satisfied: tornado>=6.0.3 in /home/tech/.local/lib/python3.10/site-packages (from streamlit) (6.2)\n",
      "Requirement already satisfied: altair>=3.2.0 in /home/tech/.local/lib/python3.10/site-packages (from streamlit) (4.2.2)\n",
      "Requirement already satisfied: semver in /home/tech/.local/lib/python3.10/site-packages (from streamlit) (2.13.0)\n",
      "Requirement already satisfied: validators>=0.2 in /home/tech/.local/lib/python3.10/site-packages (from streamlit) (0.20.0)\n",
      "Requirement already satisfied: typing-extensions>=3.10.0.0 in /home/tech/.local/lib/python3.10/site-packages (from streamlit) (4.5.0)\n",
      "Requirement already satisfied: rich>=10.11.0 in /home/tech/.local/lib/python3.10/site-packages (from streamlit) (13.3.1)\n",
      "Requirement already satisfied: tzlocal>=1.1 in /home/tech/.local/lib/python3.10/site-packages (from streamlit) (4.2)\n",
      "Requirement already satisfied: pillow>=6.2.0 in /home/tech/.local/lib/python3.10/site-packages (from streamlit) (9.3.0)\n",
      "Requirement already satisfied: toml in /home/tech/.local/lib/python3.10/site-packages (from streamlit) (0.10.2)\n",
      "Requirement already satisfied: pyarrow>=4.0 in /home/tech/.local/lib/python3.10/site-packages (from streamlit) (11.0.0)\n",
      "Collecting click>=7.0\n",
      "  Using cached click-8.1.3-py3-none-any.whl (96 kB)\n",
      "Requirement already satisfied: requests>=2.4 in /home/tech/.local/lib/python3.10/site-packages (from streamlit) (2.27.1)\n",
      "Requirement already satisfied: pandas>=0.25 in /home/tech/.local/lib/python3.10/site-packages (from streamlit) (1.3.5)\n",
      "Requirement already satisfied: importlib-metadata>=1.4 in /home/tech/.local/lib/python3.10/site-packages (from streamlit) (6.0.0)\n",
      "Requirement already satisfied: numpy in /home/tech/.local/lib/python3.10/site-packages (from streamlit) (1.24.2)\n",
      "Requirement already satisfied: watchdog in /home/tech/.local/lib/python3.10/site-packages (from streamlit) (2.2.1)\n",
      "Requirement already satisfied: cachetools>=4.0 in /home/tech/.local/lib/python3.10/site-packages (from streamlit) (5.3.0)\n",
      "Requirement already satisfied: blinker>=1.0.0 in /home/tech/.local/lib/python3.10/site-packages (from streamlit) (1.5)\n",
      "Requirement already satisfied: packaging>=14.1 in /home/tech/.local/lib/python3.10/site-packages (from streamlit) (23.0)\n",
      "Requirement already satisfied: protobuf<4,>=3.12 in /home/tech/.local/lib/python3.10/site-packages (from streamlit) (3.20.3)\n",
      "Requirement already satisfied: gitpython!=3.1.19 in /home/tech/.local/lib/python3.10/site-packages (from streamlit) (3.1.31)\n",
      "Requirement already satisfied: python-dateutil in /home/tech/.local/lib/python3.10/site-packages (from streamlit) (2.8.1)\n",
      "Requirement already satisfied: pympler>=0.9 in /home/tech/.local/lib/python3.10/site-packages (from streamlit) (1.0.1)\n",
      "Requirement already satisfied: entrypoints in /usr/lib/python3/dist-packages (from altair>=3.2.0->streamlit) (0.4)\n",
      "Requirement already satisfied: toolz in /home/tech/.local/lib/python3.10/site-packages (from altair>=3.2.0->streamlit) (0.12.0)\n",
      "Requirement already satisfied: jsonschema>=3.0 in /home/tech/.local/lib/python3.10/site-packages (from altair>=3.2.0->streamlit) (3.2.0)\n",
      "Requirement already satisfied: jinja2 in /home/tech/.local/lib/python3.10/site-packages (from altair>=3.2.0->streamlit) (3.1.2)\n",
      "Requirement already satisfied: gitdb<5,>=4.0.1 in /home/tech/.local/lib/python3.10/site-packages (from gitpython!=3.1.19->streamlit) (4.0.10)\n",
      "Requirement already satisfied: zipp>=0.5 in /home/tech/.local/lib/python3.10/site-packages (from importlib-metadata>=1.4->streamlit) (3.14.0)\n",
      "Requirement already satisfied: pytz>=2017.3 in /home/tech/.local/lib/python3.10/site-packages (from pandas>=0.25->streamlit) (2019.3)\n",
      "Requirement already satisfied: six>=1.5 in /usr/lib/python3/dist-packages (from python-dateutil->streamlit) (1.16.0)\n",
      "Requirement already satisfied: idna<4,>=2.5 in /home/tech/.local/lib/python3.10/site-packages (from requests>=2.4->streamlit) (3.4)\n",
      "Requirement already satisfied: certifi>=2017.4.17 in /home/tech/.local/lib/python3.10/site-packages (from requests>=2.4->streamlit) (2022.12.7)\n",
      "Requirement already satisfied: charset-normalizer~=2.0.0 in /home/tech/.local/lib/python3.10/site-packages (from requests>=2.4->streamlit) (2.0.12)\n",
      "Requirement already satisfied: urllib3<1.27,>=1.21.1 in /home/tech/.local/lib/python3.10/site-packages (from requests>=2.4->streamlit) (1.21.1)\n",
      "Requirement already satisfied: markdown-it-py<3.0.0,>=2.1.0 in /home/tech/.local/lib/python3.10/site-packages (from rich>=10.11.0->streamlit) (2.2.0)\n",
      "Requirement already satisfied: pygments<3.0.0,>=2.14.0 in /home/tech/.local/lib/python3.10/site-packages (from rich>=10.11.0->streamlit) (2.14.0)\n",
      "Requirement already satisfied: pytz-deprecation-shim in /home/tech/.local/lib/python3.10/site-packages (from tzlocal>=1.1->streamlit) (0.1.0.post0)\n",
      "Requirement already satisfied: decorator>=3.4.0 in /home/tech/.local/lib/python3.10/site-packages (from validators>=0.2->streamlit) (5.1.1)\n",
      "Requirement already satisfied: smmap<6,>=3.0.1 in /usr/lib/python3/dist-packages (from gitdb<5,>=4.0.1->gitpython!=3.1.19->streamlit) (5.0.0)\n",
      "Requirement already satisfied: MarkupSafe>=2.0 in /home/tech/.local/lib/python3.10/site-packages (from jinja2->altair>=3.2.0->streamlit) (2.1.2)\n",
      "Requirement already satisfied: attrs>=17.4.0 in /home/tech/.local/lib/python3.10/site-packages (from jsonschema>=3.0->altair>=3.2.0->streamlit) (22.2.0)\n",
      "Requirement already satisfied: setuptools in /usr/lib/python3/dist-packages (from jsonschema>=3.0->altair>=3.2.0->streamlit) (59.6.0)\n",
      "Requirement already satisfied: pyrsistent>=0.14.0 in /home/tech/.local/lib/python3.10/site-packages (from jsonschema>=3.0->altair>=3.2.0->streamlit) (0.19.3)\n",
      "Requirement already satisfied: mdurl~=0.1 in /home/tech/.local/lib/python3.10/site-packages (from markdown-it-py<3.0.0,>=2.1.0->rich>=10.11.0->streamlit) (0.1.2)\n",
      "Requirement already satisfied: tzdata in /home/tech/.local/lib/python3.10/site-packages (from pytz-deprecation-shim->tzlocal>=1.1->streamlit) (2022.7)\n",
      "Installing collected packages: click\n",
      "  Attempting uninstall: click\n",
      "    Found existing installation: click 6.7\n",
      "    Uninstalling click-6.7:\n",
      "      Successfully uninstalled click-6.7\n",
      "\u001b[31mERROR: pip's dependency resolver does not currently take into account all the packages that are installed. This behaviour is the source of the following dependency conflicts.\n",
      "pyresparser 1.0.6 requires urllib3>=1.25.3, but you have urllib3 1.21.1 which is incompatible.\u001b[0m\u001b[31m\n",
      "\u001b[0mSuccessfully installed click-8.1.3\n"
     ]
    }
   ],
   "source": [
    "!pip install streamlit"
   ]
  },
  {
   "cell_type": "code",
   "execution_count": null,
   "metadata": {},
   "outputs": [],
   "source": []
  }
 ],
 "metadata": {
  "kernelspec": {
   "display_name": "Python 3",
   "language": "python",
   "name": "python3"
  },
  "language_info": {
   "codemirror_mode": {
    "name": "ipython",
    "version": 3
   },
   "file_extension": ".py",
   "mimetype": "text/x-python",
   "name": "python",
   "nbconvert_exporter": "python",
   "pygments_lexer": "ipython3",
   "version": "3.10.6"
  },
  "orig_nbformat": 4
 },
 "nbformat": 4,
 "nbformat_minor": 2
}
